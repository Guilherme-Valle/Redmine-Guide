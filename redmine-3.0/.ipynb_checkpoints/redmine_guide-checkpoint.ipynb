{
 "cells": [
  {
   "cell_type": "markdown",
   "metadata": {},
   "source": [
    "# Welcome to Redmine. Look at the main page!"
   ]
  },
  {
   "cell_type": "code",
   "execution_count": null,
   "metadata": {},
   "outputs": [],
   "source": [
    "from guide_automator_function import *\n",
    "\n",
    "get('localhost:84/')\n",
    "takeScreenshot()\n",
    "\n"
   ]
  },
  {
   "cell_type": "markdown",
   "metadata": {},
   "source": [
    "# Click on login!"
   ]
  },
  {
   "cell_type": "code",
   "execution_count": null,
   "metadata": {},
   "outputs": [],
   "source": [
    "highlight('.login')\n",
    "takeScreenshot()\n",
    "click('.login')"
   ]
  },
  {
   "cell_type": "markdown",
   "metadata": {},
   "source": [
    "# Now, insert the default Admin credentials"
   ]
  },
  {
   "cell_type": "code",
   "execution_count": null,
   "metadata": {},
   "outputs": [],
   "source": [
    "clearInput('#username')\n",
    "fillIn('#username', 'admin')\n",
    "clearInput('#password')\n",
    "fillIn('#password', 'admin')\n",
    "takeScreenshot()"
   ]
  },
  {
   "cell_type": "markdown",
   "metadata": {},
   "source": [
    "# Click on 'Entrar'!"
   ]
  },
  {
   "cell_type": "code",
   "execution_count": null,
   "metadata": {},
   "outputs": [],
   "source": [
    "highlight('#login-submit')\n",
    "takeScreenshot()\n",
    "click('#login-submit')"
   ]
  },
  {
   "cell_type": "markdown",
   "metadata": {},
   "source": [
    "# Now, you have to insert a new password!"
   ]
  },
  {
   "cell_type": "code",
   "execution_count": null,
   "metadata": {},
   "outputs": [],
   "source": [
    "clearInput('#password')\n",
    "fillIn('#password', 'admin')\n",
    "fillIn('#new_password', '12345678')\n",
    "fillIn('#new_password_confirmation', '12345678')\n",
    "takeScreenshot()\n"
   ]
  },
  {
   "cell_type": "markdown",
   "metadata": {},
   "source": [
    "# Click on 'Aplicar'!"
   ]
  },
  {
   "cell_type": "code",
   "execution_count": null,
   "metadata": {},
   "outputs": [],
   "source": [
    "highlight('.tabular > input:nth-child(4)')\n",
    "takeScreenshot()\n",
    "click('.tabular > input:nth-child(4)')"
   ]
  },
  {
   "cell_type": "markdown",
   "metadata": {},
   "source": [
    "# Now, lets see our projects, clicking on 'Projetos'"
   ]
  },
  {
   "cell_type": "code",
   "execution_count": null,
   "metadata": {},
   "outputs": [],
   "source": [
    "highlight('.projects')\n",
    "takeScreenshot()\n",
    "click('.projects')"
   ]
  },
  {
   "cell_type": "markdown",
   "metadata": {},
   "source": [
    "# You don't have projects! Lets create one, clicking on 'Novo projeto'"
   ]
  },
  {
   "cell_type": "code",
   "execution_count": null,
   "metadata": {},
   "outputs": [],
   "source": [
    "highlight('a.icon-add')\n",
    "takeScreenshot()\n",
    "click('a.icon-add')\n"
   ]
  },
  {
   "cell_type": "markdown",
   "metadata": {},
   "source": [
    "# Now, insert informations about your project!"
   ]
  },
  {
   "cell_type": "code",
   "execution_count": null,
   "metadata": {},
   "outputs": [],
   "source": [
    "fillIn('#project_name', 'New amazing project!')\n",
    "fillIn('#project_description', 'I will change my life!')\n",
    "takeScreenshot()"
   ]
  },
  {
   "cell_type": "markdown",
   "metadata": {},
   "source": [
    "# Now, click on 'Criar'!"
   ]
  },
  {
   "cell_type": "code",
   "execution_count": null,
   "metadata": {},
   "outputs": [],
   "source": [
    "highlight('input[name=\"commit\"]')\n",
    "takeScreenshot()\n",
    "click('input[name=\"commit\"]')\n"
   ]
  },
  {
   "cell_type": "markdown",
   "metadata": {},
   "source": [
    "# Now, lets create a new user! Click on 'Administração'"
   ]
  },
  {
   "cell_type": "code",
   "execution_count": null,
   "metadata": {},
   "outputs": [],
   "source": [
    "highlight('.administration')\n",
    "takeScreenshot()\n",
    "click('.administration')"
   ]
  },
  {
   "cell_type": "markdown",
   "metadata": {},
   "source": [
    "# Click on 'Usuários'"
   ]
  },
  {
   "cell_type": "code",
   "execution_count": null,
   "metadata": {},
   "outputs": [],
   "source": [
    "highlight('.users')\n",
    "takeScreenshot()\n",
    "click('.users')"
   ]
  },
  {
   "cell_type": "markdown",
   "metadata": {},
   "source": [
    "# Click on 'Novo usuário'"
   ]
  },
  {
   "cell_type": "code",
   "execution_count": null,
   "metadata": {},
   "outputs": [],
   "source": [
    "highlight('a.icon-add')\n",
    "takeScreenshot()\n",
    "click('a.icon-add')"
   ]
  },
  {
   "cell_type": "markdown",
   "metadata": {},
   "source": [
    "# Now, insert the informations about the new user and click on 'Criar'"
   ]
  },
  {
   "cell_type": "code",
   "execution_count": null,
   "metadata": {},
   "outputs": [],
   "source": []
  },
  {
   "cell_type": "code",
   "execution_count": null,
   "metadata": {},
   "outputs": [],
   "source": [
    "fillIn('#user_login', 'Joao_carlos')\n",
    "fillIn('#user_firstname', 'Joao')\n",
    "fillIn('#user_lastname', 'Carlos')\n",
    "fillIn('#user_mail', 'joaocarlos@gmail.com')\n",
    "fillIn('#user_password', 'abcdefg10')\n",
    "fillIn('#user_password_confirmation', 'abcdefg10')\n",
    "selectItemOnDropdownByVisibleText('#user_language', 'Portuguese (Português)')\n",
    "highlight('input[name=\"commit\"]')\n",
    "takeScreenshot()\n",
    "click('input[name=\"commit\"]')"
   ]
  },
  {
   "cell_type": "markdown",
   "metadata": {},
   "source": [
    "# Now, click on 'Administração'"
   ]
  },
  {
   "cell_type": "code",
   "execution_count": null,
   "metadata": {},
   "outputs": [],
   "source": [
    "highlight('.administration')\n",
    "takeScreenshot()\n",
    "click('.administration')"
   ]
  },
  {
   "cell_type": "markdown",
   "metadata": {},
   "source": [
    "# Click on 'Papéis e permissões'"
   ]
  },
  {
   "cell_type": "code",
   "execution_count": null,
   "metadata": {},
   "outputs": [],
   "source": [
    "highlight('.roles')\n",
    "takeScreenshot()\n",
    "click('.roles')"
   ]
  },
  {
   "cell_type": "markdown",
   "metadata": {},
   "source": [
    "# Now, to create a new role, click on 'Novo papel'"
   ]
  },
  {
   "cell_type": "code",
   "execution_count": null,
   "metadata": {},
   "outputs": [],
   "source": [
    "highlight('.icon-add')\n",
    "takeScreenshot()\n",
    "click('.icon-add')"
   ]
  },
  {
   "cell_type": "markdown",
   "metadata": {},
   "source": [
    "# Fill in the fields and click on 'Criar'"
   ]
  },
  {
   "cell_type": "code",
   "execution_count": null,
   "metadata": {},
   "outputs": [],
   "source": [
    "fillIn('#role_name', 'Colaborador')\n",
    "click('#role_permissions_edit_project')\n",
    "highlight('input[name=\"commit\"]')\n",
    "takeScreenshot()\n",
    "click('input[name=\"commit\"]')"
   ]
  },
  {
   "cell_type": "markdown",
   "metadata": {},
   "source": [
    "# Now, return to your project!"
   ]
  },
  {
   "cell_type": "code",
   "execution_count": null,
   "metadata": {},
   "outputs": [],
   "source": [
    "highlight('.projects')\n",
    "takeScreenshot()\n",
    "click('.projects')"
   ]
  },
  {
   "cell_type": "markdown",
   "metadata": {},
   "source": [
    "# Select your project!"
   ]
  },
  {
   "cell_type": "code",
   "execution_count": null,
   "metadata": {},
   "outputs": [],
   "source": [
    "highlight('#projects-index a')\n",
    "takeScreenshot()\n",
    "click('#projects-index a')"
   ]
  },
  {
   "cell_type": "markdown",
   "metadata": {},
   "source": [
    "# Go to 'Configurações'"
   ]
  },
  {
   "cell_type": "code",
   "execution_count": null,
   "metadata": {},
   "outputs": [],
   "source": [
    "highlight('.settings')\n",
    "takeScreenshot()\n",
    "click('.settings')"
   ]
  },
  {
   "cell_type": "markdown",
   "metadata": {},
   "source": [
    "# Click on 'Membros'"
   ]
  },
  {
   "cell_type": "code",
   "execution_count": null,
   "metadata": {},
   "outputs": [],
   "source": [
    "highlight('#tab-members')\n",
    "takeScreenshot()\n",
    "click('#tab-members')"
   ]
  },
  {
   "cell_type": "markdown",
   "metadata": {},
   "source": [
    "# Click on 'Novo membro'"
   ]
  },
  {
   "cell_type": "code",
   "execution_count": null,
   "metadata": {},
   "outputs": [],
   "source": [
    "highlight('#tab-content-members a')\n",
    "takeScreenshot()\n",
    "click('#tab-content-members a')\n",
    "sleep(2)"
   ]
  },
  {
   "cell_type": "markdown",
   "metadata": {},
   "source": [
    "# Select the user, the role, and click on 'Adicionar'"
   ]
  },
  {
   "cell_type": "code",
   "execution_count": null,
   "metadata": {},
   "outputs": [],
   "source": [
    "click('#principals > label:nth-child(1) > input[type=checkbox]')\n",
    "click('input[name=\"membership[role_ids][]\"]')\n",
    "highlight('#member-add-submit')\n",
    "takeScreenshot()\n",
    "click('#member-add-submit')"
   ]
  },
  {
   "cell_type": "markdown",
   "metadata": {},
   "source": [
    "# Now, go to 'Administracao'!"
   ]
  },
  {
   "cell_type": "code",
   "execution_count": null,
   "metadata": {},
   "outputs": [],
   "source": [
    "highlight('.administration')\n",
    "takeScreenshot()\n",
    "click('.administration')"
   ]
  },
  {
   "cell_type": "markdown",
   "metadata": {},
   "source": [
    "# Click on \"Situação das tarefas\""
   ]
  },
  {
   "cell_type": "code",
   "execution_count": null,
   "metadata": {},
   "outputs": [],
   "source": [
    "highlight('.issue-statuses')\n",
    "takeScreenshot()\n",
    "click('.issue-statuses')"
   ]
  },
  {
   "cell_type": "markdown",
   "metadata": {},
   "source": [
    "# To create a new situation, click on 'Nova situação'"
   ]
  },
  {
   "cell_type": "code",
   "execution_count": null,
   "metadata": {},
   "outputs": [],
   "source": [
    "highlight('.icon-add')\n",
    "takeScreenshot()\n",
    "click('.icon-add')"
   ]
  },
  {
   "cell_type": "markdown",
   "metadata": {},
   "source": [
    "# Fill the name and click on 'Criar'"
   ]
  },
  {
   "cell_type": "code",
   "execution_count": null,
   "metadata": {},
   "outputs": [],
   "source": [
    "fillIn('#issue_status_name', 'Daily')\n",
    "highlight('input[name=\"commit\"]')\n",
    "takeScreenshot()\n",
    "click('input[name=\"commit\"]')\n"
   ]
  },
  {
   "cell_type": "markdown",
   "metadata": {},
   "source": [
    "# Return to 'Administracao'"
   ]
  },
  {
   "cell_type": "code",
   "execution_count": null,
   "metadata": {},
   "outputs": [],
   "source": [
    "highlight('.administration')\n",
    "takeScreenshot()\n",
    "click('.administration')"
   ]
  },
  {
   "cell_type": "markdown",
   "metadata": {},
   "source": [
    "# Click on 'Tipos de tarefas'"
   ]
  },
  {
   "cell_type": "code",
   "execution_count": null,
   "metadata": {},
   "outputs": [],
   "source": [
    "highlight('.trackers')\n",
    "takeScreenshot()\n",
    "click('.trackers')"
   ]
  },
  {
   "cell_type": "markdown",
   "metadata": {},
   "source": [
    "# To create a new issue type, click on 'Novo tipo'"
   ]
  },
  {
   "cell_type": "code",
   "execution_count": null,
   "metadata": {},
   "outputs": [],
   "source": [
    "highlight('.icon-add')\n",
    "takeScreenshot()\n",
    "click('.icon-add')"
   ]
  },
  {
   "cell_type": "markdown",
   "metadata": {},
   "source": [
    "# Fill the name, select the situation and create"
   ]
  },
  {
   "cell_type": "code",
   "execution_count": null,
   "metadata": {},
   "outputs": [],
   "source": [
    "fillIn('#tracker_name', 'Main')\n",
    "selectItemOnDropdownByVisibleText('#tracker_default_status_id', 'Daily')\n",
    "highlight('input[name=\"commit\"]')\n",
    "takeScreenshot()\n",
    "click('input[name=\"commit\"]')\n",
    "\n"
   ]
  },
  {
   "cell_type": "markdown",
   "metadata": {},
   "source": [
    "# Return to 'Administração'"
   ]
  },
  {
   "cell_type": "code",
   "execution_count": null,
   "metadata": {},
   "outputs": [],
   "source": [
    "highlight('.administration')\n",
    "takeScreenshot()\n",
    "click('.administration')"
   ]
  },
  {
   "cell_type": "markdown",
   "metadata": {},
   "source": [
    "# Click on 'Tipos & Categorias'"
   ]
  },
  {
   "cell_type": "code",
   "execution_count": null,
   "metadata": {},
   "outputs": [],
   "source": [
    "highlight('.enumerations')\n",
    "takeScreenshot()\n",
    "click('.enumerations')"
   ]
  },
  {
   "cell_type": "markdown",
   "metadata": {},
   "source": [
    "# Click on 'Novo' under 'Prioridade das tarefas'"
   ]
  },
  {
   "cell_type": "code",
   "execution_count": null,
   "metadata": {},
   "outputs": [],
   "source": [
    "highlight('a[href=\"/enumerations/new?type=IssuePriority\"]')\n",
    "takeScreenshot()\n",
    "click('a[href=\"/enumerations/new?type=IssuePriority\"]')"
   ]
  },
  {
   "cell_type": "markdown",
   "metadata": {},
   "source": [
    "# Fill in the name and click on 'Criar'"
   ]
  },
  {
   "cell_type": "code",
   "execution_count": null,
   "metadata": {},
   "outputs": [],
   "source": [
    "fillIn('#enumeration_name', 'Top')\n",
    "highlight('input[name=\"commit\"]')\n",
    "takeScreenshot()\n",
    "click('input[name=\"commit\"]')"
   ]
  },
  {
   "cell_type": "markdown",
   "metadata": {},
   "source": [
    "# Return to your project!"
   ]
  },
  {
   "cell_type": "code",
   "execution_count": null,
   "metadata": {},
   "outputs": [],
   "source": [
    "highlight('.projects')\n",
    "takeScreenshot()\n",
    "click('.projects')"
   ]
  },
  {
   "cell_type": "markdown",
   "metadata": {},
   "source": [
    "# Select your project"
   ]
  },
  {
   "cell_type": "code",
   "execution_count": null,
   "metadata": {},
   "outputs": [],
   "source": [
    "highlight('#projects-index a')\n",
    "takeScreenshot()\n",
    "click('#projects-index a')"
   ]
  },
  {
   "cell_type": "markdown",
   "metadata": {},
   "source": [
    "# Go to 'Configurações'"
   ]
  },
  {
   "cell_type": "code",
   "execution_count": null,
   "metadata": {},
   "outputs": [],
   "source": [
    "highlight('.settings')\n",
    "takeScreenshot()\n",
    "click('.settings')"
   ]
  },
  {
   "cell_type": "markdown",
   "metadata": {},
   "source": [
    "# Select 'Categoria das tarefas'"
   ]
  },
  {
   "cell_type": "code",
   "execution_count": null,
   "metadata": {},
   "outputs": [],
   "source": [
    "highlight('#tab-categories')\n",
    "takeScreenshot()\n",
    "click('#tab-categories')"
   ]
  },
  {
   "cell_type": "markdown",
   "metadata": {},
   "source": [
    "# Select 'Nova categoria'"
   ]
  },
  {
   "cell_type": "code",
   "execution_count": null,
   "metadata": {},
   "outputs": [],
   "source": [
    "sleep(1)\n",
    "highlight('#tab-content-categories .icon-add')\n",
    "takeScreenshot()\n",
    "click('#tab-content-categories .icon-add')"
   ]
  },
  {
   "cell_type": "markdown",
   "metadata": {},
   "source": [
    "# Fill the name, select the member and click on 'Criar'"
   ]
  },
  {
   "cell_type": "code",
   "execution_count": null,
   "metadata": {},
   "outputs": [],
   "source": [
    "fillIn('#issue_category_name', 'Daily')\n",
    "selectItemOnDropdownByVisibleText('#issue_category_assigned_to_id', 'Joao Carlos')\n",
    "highlight('input[name=\"commit\"]')\n",
    "takeScreenshot()\n",
    "click('input[name=\"commit\"]')\n"
   ]
  },
  {
   "cell_type": "markdown",
   "metadata": {},
   "source": [
    "# Go to 'Tarefas' on the tab of configurations"
   ]
  },
  {
   "cell_type": "code",
   "execution_count": null,
   "metadata": {},
   "outputs": [],
   "source": [
    "highlight('#tab-issues')\n",
    "takeScreenshot()\n",
    "click('#tab-issues')"
   ]
  },
  {
   "cell_type": "markdown",
   "metadata": {},
   "source": [
    "# Select the type, the responsible and save"
   ]
  },
  {
   "cell_type": "code",
   "execution_count": null,
   "metadata": {},
   "outputs": [],
   "source": [
    "click('input[name=\"project[tracker_ids][]\"]')\n",
    "selectItemOnDropdownByVisibleText('#project_default_assigned_to_id', 'Joao Carlos')\n",
    "highlight('#edit_project_1 input[type=submit]')\n",
    "takeScreenshot()\n",
    "click('#edit_project_1 input[type=submit]')\n"
   ]
  },
  {
   "cell_type": "markdown",
   "metadata": {},
   "source": [
    "# Go to 'Tarefas'"
   ]
  },
  {
   "cell_type": "code",
   "execution_count": null,
   "metadata": {},
   "outputs": [],
   "source": [
    "highlight('.issues')\n",
    "takeScreenshot()\n",
    "click('.issues')"
   ]
  },
  {
   "cell_type": "markdown",
   "metadata": {},
   "source": [
    "# To create a new issue, click on 'Nova tarefa'"
   ]
  },
  {
   "cell_type": "code",
   "execution_count": null,
   "metadata": {},
   "outputs": [],
   "source": [
    "highlight('.new-issue')\n",
    "takeScreenshot()\n",
    "click('.new-issue')"
   ]
  },
  {
   "cell_type": "markdown",
   "metadata": {},
   "source": [
    "# Fill the fields, select the responsible and click on 'Criar'"
   ]
  },
  {
   "cell_type": "code",
   "execution_count": null,
   "metadata": {},
   "outputs": [],
   "source": [
    "fillIn('#issue_subject', 'Write text')\n",
    "selectItemOnDropdownByVisibleText('#issue_assigned_to_id', 'Joao Carlos')\n",
    "highlight('input[name=\"commit\"]')\n",
    "takeScreenshot()\n",
    "click('input[name=\"commit\"]')\n"
   ]
  },
  {
   "cell_type": "markdown",
   "metadata": {},
   "source": [
    "# Click again on 'Tarefas'"
   ]
  },
  {
   "cell_type": "code",
   "execution_count": null,
   "metadata": {},
   "outputs": [],
   "source": [
    "highlight('.issues')\n",
    "takeScreenshot()\n",
    "click('.issues')"
   ]
  },
  {
   "cell_type": "markdown",
   "metadata": {},
   "source": [
    "# Click on the issue"
   ]
  },
  {
   "cell_type": "code",
   "execution_count": null,
   "metadata": {},
   "outputs": [],
   "source": [
    "highlight('#issue-1 > td.id > a')\n",
    "takeScreenshot()\n",
    "click('#issue-1 > td.id > a')"
   ]
  },
  {
   "cell_type": "markdown",
   "metadata": {},
   "source": [
    "# Click on edit to change the name"
   ]
  },
  {
   "cell_type": "code",
   "execution_count": null,
   "metadata": {},
   "outputs": [],
   "source": [
    "highlight('.contextual:nth-child(1) .icon.icon-edit')\n",
    "takeScreenshot()\n",
    "click('.contextual:nth-child(1) .icon.icon-edit')"
   ]
  },
  {
   "cell_type": "markdown",
   "metadata": {},
   "source": [
    "# Fill the title and click on 'Enviar'"
   ]
  },
  {
   "cell_type": "code",
   "execution_count": null,
   "metadata": {},
   "outputs": [],
   "source": [
    "fillIn('#issue_subject', 'New name')\n",
    "highlight('#issue-form > input[type=submit]:nth-child(7)')\n",
    "takeScreenshot()\n",
    "click('#issue-form > input[type=submit]:nth-child(7)')"
   ]
  },
  {
   "cell_type": "markdown",
   "metadata": {},
   "source": [
    "# Back to 'Tarefas'"
   ]
  },
  {
   "cell_type": "code",
   "execution_count": null,
   "metadata": {},
   "outputs": [],
   "source": [
    "highlight('.issues')\n",
    "takeScreenshot()\n",
    "click('.issues')"
   ]
  },
  {
   "cell_type": "code",
   "execution_count": null,
   "metadata": {},
   "outputs": [],
   "source": []
  },
  {
   "cell_type": "code",
   "execution_count": null,
   "metadata": {},
   "outputs": [],
   "source": []
  },
  {
   "cell_type": "code",
   "execution_count": null,
   "metadata": {},
   "outputs": [],
   "source": []
  },
  {
   "cell_type": "code",
   "execution_count": null,
   "metadata": {},
   "outputs": [],
   "source": []
  },
  {
   "cell_type": "code",
   "execution_count": null,
   "metadata": {},
   "outputs": [],
   "source": []
  }
 ],
 "metadata": {
  "kernelspec": {
   "display_name": "Python 3",
   "language": "python",
   "name": "python3"
  },
  "language_info": {
   "codemirror_mode": {
    "name": "ipython",
    "version": 3
   },
   "file_extension": ".py",
   "mimetype": "text/x-python",
   "name": "python",
   "nbconvert_exporter": "python",
   "pygments_lexer": "ipython3",
   "version": "3.5.2"
  }
 },
 "nbformat": 4,
 "nbformat_minor": 2
}
